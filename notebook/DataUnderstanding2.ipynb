{
 "cells": [
  {
   "cell_type": "code",
   "execution_count": 1,
   "metadata": {},
   "outputs": [],
   "source": [
    "import numpy \n",
    "import pandas as pd\n",
    "\n",
    "# All auxiliary code is in ../src\n",
    "import sys\n",
    "sys.path.append(\"../src/\")\n",
    "\n",
    "from transformations.values import remove_from_columns\n",
    "dataset = pd.read_csv('../dataset/cyclists.csv')\n",
    "\n",
    "\n",
    "missing_weights = numpy.argwhere(dataset[\"weight\"].isna()).squeeze()\n",
    "missing_heigths = numpy.argwhere(dataset[\"height\"].isna()).squeeze()\n",
    "missing_birth_year = numpy.argwhere(dataset[\"birth_year\"].isna()).squeeze()"
   ]
  },
  {
   "cell_type": "code",
   "execution_count": 2,
   "metadata": {},
   "outputs": [
    {
     "data": {
      "text/plain": [
       "_url              0\n",
       "name              0\n",
       "birth_year       13\n",
       "weight         3056\n",
       "height         2991\n",
       "nationality       1\n",
       "dtype: int64"
      ]
     },
     "execution_count": 2,
     "metadata": {},
     "output_type": "execute_result"
    }
   ],
   "source": [
    "dataset.isnull().sum()"
   ]
  },
  {
   "cell_type": "code",
   "execution_count": 3,
   "metadata": {},
   "outputs": [
    {
     "name": "stdout",
     "output_type": "stream",
     "text": [
      "[   0    6    9 ... 6128 6129 6131]\n"
     ]
    }
   ],
   "source": [
    "print(missing_weights)"
   ]
  },
  {
   "cell_type": "code",
   "execution_count": 4,
   "metadata": {},
   "outputs": [
    {
     "name": "stdout",
     "output_type": "stream",
     "text": [
      "[   0    6    9 ... 6128 6129 6131]\n"
     ]
    }
   ],
   "source": [
    "print(missing_heigths)"
   ]
  },
  {
   "cell_type": "code",
   "execution_count": 5,
   "metadata": {},
   "outputs": [
    {
     "name": "stdout",
     "output_type": "stream",
     "text": [
      "[   9  601  894 2408 2515 2536 3046 3551 4142 4384 4756 6072 6080]\n"
     ]
    }
   ],
   "source": [
    "print(missing_birth_year)"
   ]
  },
  {
   "cell_type": "code",
   "execution_count": 6,
   "metadata": {},
   "outputs": [
    {
     "data": {
      "text/html": [
       "<div>\n",
       "<style scoped>\n",
       "    .dataframe tbody tr th:only-of-type {\n",
       "        vertical-align: middle;\n",
       "    }\n",
       "\n",
       "    .dataframe tbody tr th {\n",
       "        vertical-align: top;\n",
       "    }\n",
       "\n",
       "    .dataframe thead th {\n",
       "        text-align: right;\n",
       "    }\n",
       "</style>\n",
       "<table border=\"1\" class=\"dataframe\">\n",
       "  <thead>\n",
       "    <tr style=\"text-align: right;\">\n",
       "      <th></th>\n",
       "      <th>_url</th>\n",
       "      <th>name</th>\n",
       "      <th>birth_year</th>\n",
       "      <th>weight</th>\n",
       "      <th>height</th>\n",
       "      <th>nationality</th>\n",
       "    </tr>\n",
       "  </thead>\n",
       "  <tbody>\n",
       "    <tr>\n",
       "      <th>0</th>\n",
       "      <td>bruno-surra</td>\n",
       "      <td>Bruno  Surra</td>\n",
       "      <td>1964.0</td>\n",
       "      <td>NaN</td>\n",
       "      <td>NaN</td>\n",
       "      <td>Italy</td>\n",
       "    </tr>\n",
       "    <tr>\n",
       "      <th>6</th>\n",
       "      <td>willy-moonen</td>\n",
       "      <td>Willy  Moonen</td>\n",
       "      <td>1947.0</td>\n",
       "      <td>NaN</td>\n",
       "      <td>NaN</td>\n",
       "      <td>Belgium</td>\n",
       "    </tr>\n",
       "    <tr>\n",
       "      <th>9</th>\n",
       "      <td>scott-davies</td>\n",
       "      <td>Scott  Davies</td>\n",
       "      <td>NaN</td>\n",
       "      <td>NaN</td>\n",
       "      <td>NaN</td>\n",
       "      <td>NaN</td>\n",
       "    </tr>\n",
       "    <tr>\n",
       "      <th>10</th>\n",
       "      <td>stian-remme</td>\n",
       "      <td>Stian  Remme</td>\n",
       "      <td>1982.0</td>\n",
       "      <td>NaN</td>\n",
       "      <td>NaN</td>\n",
       "      <td>Norway</td>\n",
       "    </tr>\n",
       "    <tr>\n",
       "      <th>13</th>\n",
       "      <td>evgueny-anachkine</td>\n",
       "      <td>Evgueny  Anachkine</td>\n",
       "      <td>1970.0</td>\n",
       "      <td>NaN</td>\n",
       "      <td>NaN</td>\n",
       "      <td>Russia</td>\n",
       "    </tr>\n",
       "    <tr>\n",
       "      <th>...</th>\n",
       "      <td>...</td>\n",
       "      <td>...</td>\n",
       "      <td>...</td>\n",
       "      <td>...</td>\n",
       "      <td>...</td>\n",
       "      <td>...</td>\n",
       "    </tr>\n",
       "    <tr>\n",
       "      <th>6124</th>\n",
       "      <td>henri-vandenabeele</td>\n",
       "      <td>Henri  Vandenabeele</td>\n",
       "      <td>2000.0</td>\n",
       "      <td>NaN</td>\n",
       "      <td>181.0</td>\n",
       "      <td>Belgium</td>\n",
       "    </tr>\n",
       "    <tr>\n",
       "      <th>6127</th>\n",
       "      <td>hendrik-van-dyck</td>\n",
       "      <td>Hendrik Van Dyck</td>\n",
       "      <td>1974.0</td>\n",
       "      <td>NaN</td>\n",
       "      <td>NaN</td>\n",
       "      <td>Belgium</td>\n",
       "    </tr>\n",
       "    <tr>\n",
       "      <th>6128</th>\n",
       "      <td>francisco-jose-pacheco</td>\n",
       "      <td>Francisco José  Pacheco</td>\n",
       "      <td>1982.0</td>\n",
       "      <td>NaN</td>\n",
       "      <td>NaN</td>\n",
       "      <td>Spain</td>\n",
       "    </tr>\n",
       "    <tr>\n",
       "      <th>6129</th>\n",
       "      <td>juan-jose-martinez-diaz</td>\n",
       "      <td>Juan José  Martínez</td>\n",
       "      <td>1966.0</td>\n",
       "      <td>NaN</td>\n",
       "      <td>NaN</td>\n",
       "      <td>Spain</td>\n",
       "    </tr>\n",
       "    <tr>\n",
       "      <th>6131</th>\n",
       "      <td>paolo-alberati</td>\n",
       "      <td>Paolo  Alberati</td>\n",
       "      <td>1973.0</td>\n",
       "      <td>NaN</td>\n",
       "      <td>NaN</td>\n",
       "      <td>Italy</td>\n",
       "    </tr>\n",
       "  </tbody>\n",
       "</table>\n",
       "<p>3063 rows × 6 columns</p>\n",
       "</div>"
      ],
      "text/plain": [
       "                         _url                     name  birth_year  weight  \\\n",
       "0                 bruno-surra             Bruno  Surra      1964.0     NaN   \n",
       "6                willy-moonen            Willy  Moonen      1947.0     NaN   \n",
       "9                scott-davies            Scott  Davies         NaN     NaN   \n",
       "10                stian-remme             Stian  Remme      1982.0     NaN   \n",
       "13          evgueny-anachkine       Evgueny  Anachkine      1970.0     NaN   \n",
       "...                       ...                      ...         ...     ...   \n",
       "6124       henri-vandenabeele      Henri  Vandenabeele      2000.0     NaN   \n",
       "6127         hendrik-van-dyck         Hendrik Van Dyck      1974.0     NaN   \n",
       "6128   francisco-jose-pacheco  Francisco José  Pacheco      1982.0     NaN   \n",
       "6129  juan-jose-martinez-diaz      Juan José  Martínez      1966.0     NaN   \n",
       "6131           paolo-alberati          Paolo  Alberati      1973.0     NaN   \n",
       "\n",
       "      height nationality  \n",
       "0        NaN       Italy  \n",
       "6        NaN     Belgium  \n",
       "9        NaN         NaN  \n",
       "10       NaN      Norway  \n",
       "13       NaN      Russia  \n",
       "...      ...         ...  \n",
       "6124   181.0     Belgium  \n",
       "6127     NaN     Belgium  \n",
       "6128     NaN       Spain  \n",
       "6129     NaN       Spain  \n",
       "6131     NaN       Italy  \n",
       "\n",
       "[3063 rows x 6 columns]"
      ]
     },
     "execution_count": 6,
     "metadata": {},
     "output_type": "execute_result"
    }
   ],
   "source": [
    "dataset[dataset.isnull().any(axis=1)]"
   ]
  },
  {
   "cell_type": "code",
   "execution_count": 14,
   "metadata": {},
   "outputs": [
    {
     "data": {
      "text/plain": [
       "<seaborn.axisgrid.FacetGrid at 0x7f2674e625c0>"
      ]
     },
     "execution_count": 14,
     "metadata": {},
     "output_type": "execute_result"
    },
    {
     "data": {
      "image/png": "[encoded data removed]",
      "text/plain": [
       "<Figure size 500x500 with 1 Axes>"
      ]
     },
     "metadata": {},
     "output_type": "display_data"
    }
   ],
   "source": [
    "import seaborn\n",
    "import matplotlib.pyplot as plt\n",
    "seaborn.displot(dataset, \n",
    "                x=\"weight\", \n",
    "                kind=\"hist\",\n",
    "                row_order=\"desc\",\n",
    "                bins=15)"
   ]
  },
  {
   "cell_type": "code",
   "execution_count": 16,
   "metadata": {},
   "outputs": [
    {
     "data": {
      "text/plain": [
       "(array([150., 160., 170., 180., 190., 200., 210.]),\n",
       " [Text(150.0, 0, '150'),\n",
       "  Text(160.0, 0, '160'),\n",
       "  Text(170.0, 0, '170'),\n",
       "  Text(180.0, 0, '180'),\n",
       "  Text(190.0, 0, '190'),\n",
       "  Text(200.0, 0, '200'),\n",
       "  Text(210.0, 0, '210')])"
      ]
     },
     "execution_count": 16,
     "metadata": {},
     "output_type": "execute_result"
    },
    {
     "data": {
      "image/png": "[encoded data removed]",
      "text/plain": [
       "<Figure size 500x500 with 1 Axes>"
      ]
     },
     "metadata": {},
     "output_type": "display_data"
    }
   ],
   "source": [
    "seaborn.displot(dataset, \n",
    "                x=\"height\", \n",
    "                kind=\"hist\",\n",
    "                row_order=\"desc\",\n",
    "                bins=len(dataset['height'].unique()))\n",
    "plt.xticks(rotation=90) #to rotate x-axis label by 90° --> read better"
   ]
  },
  {
   "cell_type": "code",
   "execution_count": 17,
   "metadata": {},
   "outputs": [],
   "source": [
    "import numpy \n",
    "from sklearn.impute import SimpleImputer"
   ]
  },
  {
   "cell_type": "code",
   "execution_count": 20,
   "metadata": {},
   "outputs": [],
   "source": [
    "imputer = SimpleImputer(strategy=\"mean\")\n",
    "\n",
    "imputer.fit(dataset[[\"weight\"]])\n",
    "\n",
    "dataset[\"weight\"] = imputer.transform(dataset[[\"weight\"]]).squeeze()"
   ]
  },
  {
   "cell_type": "code",
   "execution_count": 21,
   "metadata": {},
   "outputs": [
    {
     "data": {
      "text/plain": [
       "_url              0\n",
       "name              0\n",
       "birth_year       13\n",
       "weight            0\n",
       "height         2991\n",
       "nationality       1\n",
       "dtype: int64"
      ]
     },
     "execution_count": 21,
     "metadata": {},
     "output_type": "execute_result"
    }
   ],
   "source": [
    "dataset.isnull().sum()"
   ]
  },
  {
   "cell_type": "markdown",
   "metadata": {},
   "source": [
    "no more null weight values"
   ]
  },
  {
   "cell_type": "code",
   "execution_count": 22,
   "metadata": {},
   "outputs": [
    {
     "data": {
      "text/plain": [
       "<seaborn.axisgrid.FacetGrid at 0x7f26728b8760>"
      ]
     },
     "execution_count": 22,
     "metadata": {},
     "output_type": "execute_result"
    },
    {
     "data": {
      "image/png": "[encoded data removed]",
      "text/plain": [
       "<Figure size 500x500 with 1 Axes>"
      ]
     },
     "metadata": {},
     "output_type": "display_data"
    }
   ],
   "source": [
    "seaborn.displot(dataset, \n",
    "                x=\"weight\", \n",
    "                kind=\"hist\",\n",
    "                row_order=\"desc\",\n",
    "                bins=15)"
   ]
  },
  {
   "cell_type": "markdown",
   "metadata": {},
   "source": [
    "istogramma troppo piccato sulla media xk ho sostituito i valori mancanti con la media "
   ]
  },
  {
   "cell_type": "code",
   "execution_count": 26,
   "metadata": {},
   "outputs": [
    {
     "data": {
      "text/html": [
       "<div>\n",
       "<style scoped>\n",
       "    .dataframe tbody tr th:only-of-type {\n",
       "        vertical-align: middle;\n",
       "    }\n",
       "\n",
       "    .dataframe tbody tr th {\n",
       "        vertical-align: top;\n",
       "    }\n",
       "\n",
       "    .dataframe thead th {\n",
       "        text-align: right;\n",
       "    }\n",
       "</style>\n",
       "<table border=\"1\" class=\"dataframe\">\n",
       "  <thead>\n",
       "    <tr style=\"text-align: right;\">\n",
       "      <th></th>\n",
       "      <th>birth_year</th>\n",
       "      <th>weight</th>\n",
       "      <th>height</th>\n",
       "      <th>correlation_type</th>\n",
       "    </tr>\n",
       "  </thead>\n",
       "  <tbody>\n",
       "    <tr>\n",
       "      <th>birth_year</th>\n",
       "      <td>1.000000</td>\n",
       "      <td>-0.063740</td>\n",
       "      <td>0.094976</td>\n",
       "      <td>kendall</td>\n",
       "    </tr>\n",
       "    <tr>\n",
       "      <th>weight</th>\n",
       "      <td>-0.063740</td>\n",
       "      <td>1.000000</td>\n",
       "      <td>0.539760</td>\n",
       "      <td>kendall</td>\n",
       "    </tr>\n",
       "    <tr>\n",
       "      <th>height</th>\n",
       "      <td>0.094976</td>\n",
       "      <td>0.539760</td>\n",
       "      <td>1.000000</td>\n",
       "      <td>kendall</td>\n",
       "    </tr>\n",
       "    <tr>\n",
       "      <th>birth_year</th>\n",
       "      <td>1.000000</td>\n",
       "      <td>-0.104242</td>\n",
       "      <td>0.154252</td>\n",
       "      <td>pearson</td>\n",
       "    </tr>\n",
       "    <tr>\n",
       "      <th>weight</th>\n",
       "      <td>-0.104242</td>\n",
       "      <td>1.000000</td>\n",
       "      <td>0.720732</td>\n",
       "      <td>pearson</td>\n",
       "    </tr>\n",
       "    <tr>\n",
       "      <th>height</th>\n",
       "      <td>0.154252</td>\n",
       "      <td>0.720732</td>\n",
       "      <td>1.000000</td>\n",
       "      <td>pearson</td>\n",
       "    </tr>\n",
       "    <tr>\n",
       "      <th>birth_year</th>\n",
       "      <td>1.000000</td>\n",
       "      <td>-0.091220</td>\n",
       "      <td>0.137001</td>\n",
       "      <td>spearman</td>\n",
       "    </tr>\n",
       "    <tr>\n",
       "      <th>weight</th>\n",
       "      <td>-0.091220</td>\n",
       "      <td>1.000000</td>\n",
       "      <td>0.705189</td>\n",
       "      <td>spearman</td>\n",
       "    </tr>\n",
       "    <tr>\n",
       "      <th>height</th>\n",
       "      <td>0.137001</td>\n",
       "      <td>0.705189</td>\n",
       "      <td>1.000000</td>\n",
       "      <td>spearman</td>\n",
       "    </tr>\n",
       "  </tbody>\n",
       "</table>\n",
       "</div>"
      ],
      "text/plain": [
       "            birth_year    weight    height correlation_type\n",
       "birth_year    1.000000 -0.063740  0.094976          kendall\n",
       "weight       -0.063740  1.000000  0.539760          kendall\n",
       "height        0.094976  0.539760  1.000000          kendall\n",
       "birth_year    1.000000 -0.104242  0.154252          pearson\n",
       "weight       -0.104242  1.000000  0.720732          pearson\n",
       "height        0.154252  0.720732  1.000000          pearson\n",
       "birth_year    1.000000 -0.091220  0.137001         spearman\n",
       "weight       -0.091220  1.000000  0.705189         spearman\n",
       "height        0.137001  0.705189  1.000000         spearman"
      ]
     },
     "execution_count": 26,
     "metadata": {},
     "output_type": "execute_result"
    }
   ],
   "source": [
    "from dataunderstanding import correlations\n",
    "from transformations import center_and_scale, drop_boolean\n",
    "\n",
    "dataset = pd.read_csv('../dataset/cyclists.csv')\n",
    "normalized_dataset, normalization_scalers_dataset = center_and_scale(dataset)\n",
    "correlations = correlations(normalized_dataset)\n",
    "correlations"
   ]
  },
  {
   "cell_type": "code",
   "execution_count": 27,
   "metadata": {},
   "outputs": [
    {
     "data": {
      "text/plain": [
       "<seaborn.axisgrid.FacetGrid at 0x7f2671612b30>"
      ]
     },
     "execution_count": 27,
     "metadata": {},
     "output_type": "execute_result"
    },
    {
     "data": {
      "image/png": "[encoded data removed]",
      "text/plain": [
       "<Figure size 900x300 with 6 Axes>"
      ]
     },
     "metadata": {},
     "output_type": "display_data"
    }
   ],
   "source": [
    "import seaborn\n",
    "\n",
    "g = seaborn.FacetGrid(correlations, col=\"correlation_type\")\n",
    "g.map_dataframe(lambda data, color: seaborn.heatmap(data[data.columns[:-1]]))"
   ]
  },
  {
   "cell_type": "markdown",
   "metadata": {},
   "source": [
    "Pearson correlation --> High Degree: Values between ±0.50 and ±1 suggest a strong correlation. \n",
    "--> strong linear correlation between height and weight (0.72 corr. Pearson) \n",
    "si possono ricavare pesi e altezze mancanti quando è noto almeno uno dei due "
   ]
  },
  {
   "cell_type": "code",
   "execution_count": 30,
   "metadata": {
    "scrolled": true
   },
   "outputs": [
    {
     "name": "stdout",
     "output_type": "stream",
     "text": [
      "2984\n"
     ]
    }
   ],
   "source": [
    "missing_both_weights_and_heights = dataset[(dataset['height'].isna()) & (dataset['weight'].isna())].shape[0]\n",
    "print(missing_both_weights_and_heights)"
   ]
  },
  {
   "cell_type": "code",
   "execution_count": null,
   "metadata": {},
   "outputs": [],
   "source": []
  }
 ],
 "metadata": {
  "kernelspec": {
   "display_name": "Python 3 (ipykernel)",
   "language": "python",
   "name": "python3"
  },
  "language_info": {
   "codemirror_mode": {
    "name": "ipython",
    "version": 3
   },
   "file_extension": ".py",
   "mimetype": "text/x-python",
   "name": "python",
   "nbconvert_exporter": "python",
   "pygments_lexer": "ipython3",
   "version": "3.10.15"
  }
 },
 "nbformat": 4,
 "nbformat_minor": 4
}
