{
 "cells": [
  {
   "cell_type": "markdown",
   "id": "6f737364-00e0-4ab3-958c-4be004b20f3a",
   "metadata": {},
   "source": [
    "# Import the Pandas library\n",
    "Pandas is a powerful data manipulation library that provides easy-to-use data structures and data analysis tools for Python.\n",
    "The following command imports the Pandas library and assigns it the alias “pd”, which is a common convention in the Python community."
   ]
  },
  {
   "cell_type": "code",
   "execution_count": 21,
   "id": "1487a316-a5a4-48b8-9a5b-0289472a9b7a",
   "metadata": {},
   "outputs": [],
   "source": [
    "import pandas as pd\n"
   ]
  },
  {
   "cell_type": "markdown",
   "id": "6768cfa8-2740-4c25-baf2-a9d3670d798d",
   "metadata": {},
   "source": [
    "# Load the .csv file \n",
    "To load a CSV file into Pandas, you can use the read_csv() function. This function takes the path to the CSV file as a parameter and returns a DataFrame object, which is a two-dimensional table-like data structure that can hold data of different types. \n",
    "Assume your local path starting from the folder of the notebook, -->dataset-->cyclists.csv\n",
    "\n",
    "***\n",
    "`df = pd.read_csv('data.csv')`\n",
    "\n",
    "This command reads the CSV file named “mydata.csv” and stores its contents in a DataFrame object named “df”. You can replace “data.csv” with the name of your CSV file.\n",
    "\n",
    "If your CSV file is stored in a different directory, you need to provide the full path to the file. For example, if your CSV file is stored in the “data” directory of your Jupyter Notebook, you can load it by running the following command:\n",
    "\n",
    "`df = pd.read_csv('data/mydata.csv')`\n",
    "\n",
    "This command reads the CSV file named data.csv from the “data” directory and stores its contents in a DataFrame object named df.\n",
    "\n",
    "***"
   ]
  },
  {
   "cell_type": "code",
   "execution_count": 22,
   "id": "a363ccc0-6fbd-4b86-bbba-13b3d6a5f6ae",
   "metadata": {},
   "outputs": [],
   "source": [
    "df = pd.read_csv('dataset/cyclists.csv')"
   ]
  },
  {
   "cell_type": "markdown",
   "id": "d5729572-f301-40a5-9e83-988e3d88df31",
   "metadata": {},
   "source": [
    "# Explore the data\n",
    "Once you’ve loaded the CSV file into a DataFrame object, you can start exploring its contents. Pandas provides many functions and methods for data manipulation, aggregation, and visualization.\n",
    "\n",
    "For example, you can use the head() function to display the first five rows of the DataFrame:"
   ]
  },
  {
   "cell_type": "code",
   "execution_count": 23,
   "id": "3c781f20-16fd-44ee-8a54-1a4ec4647a9e",
   "metadata": {},
   "outputs": [
    {
     "data": {
      "text/html": [
       "<div>\n",
       "<style scoped>\n",
       "    .dataframe tbody tr th:only-of-type {\n",
       "        vertical-align: middle;\n",
       "    }\n",
       "\n",
       "    .dataframe tbody tr th {\n",
       "        vertical-align: top;\n",
       "    }\n",
       "\n",
       "    .dataframe thead th {\n",
       "        text-align: right;\n",
       "    }\n",
       "</style>\n",
       "<table border=\"1\" class=\"dataframe\">\n",
       "  <thead>\n",
       "    <tr style=\"text-align: right;\">\n",
       "      <th></th>\n",
       "      <th>_url</th>\n",
       "      <th>name</th>\n",
       "      <th>birth_year</th>\n",
       "      <th>weight</th>\n",
       "      <th>height</th>\n",
       "      <th>nationality</th>\n",
       "    </tr>\n",
       "  </thead>\n",
       "  <tbody>\n",
       "    <tr>\n",
       "      <th>0</th>\n",
       "      <td>bruno-surra</td>\n",
       "      <td>Bruno  Surra</td>\n",
       "      <td>1964.0</td>\n",
       "      <td>NaN</td>\n",
       "      <td>NaN</td>\n",
       "      <td>Italy</td>\n",
       "    </tr>\n",
       "    <tr>\n",
       "      <th>1</th>\n",
       "      <td>gerard-rue</td>\n",
       "      <td>Gérard  Rué</td>\n",
       "      <td>1965.0</td>\n",
       "      <td>74.0</td>\n",
       "      <td>182.0</td>\n",
       "      <td>France</td>\n",
       "    </tr>\n",
       "    <tr>\n",
       "      <th>2</th>\n",
       "      <td>jan-maas</td>\n",
       "      <td>Jan  Maas</td>\n",
       "      <td>1996.0</td>\n",
       "      <td>69.0</td>\n",
       "      <td>189.0</td>\n",
       "      <td>Netherlands</td>\n",
       "    </tr>\n",
       "    <tr>\n",
       "      <th>3</th>\n",
       "      <td>nathan-van-hooydonck</td>\n",
       "      <td>Nathan Van Hooydonck</td>\n",
       "      <td>1995.0</td>\n",
       "      <td>78.0</td>\n",
       "      <td>192.0</td>\n",
       "      <td>Belgium</td>\n",
       "    </tr>\n",
       "    <tr>\n",
       "      <th>4</th>\n",
       "      <td>jose-felix-parra</td>\n",
       "      <td>José Félix  Parra</td>\n",
       "      <td>1997.0</td>\n",
       "      <td>55.0</td>\n",
       "      <td>171.0</td>\n",
       "      <td>Spain</td>\n",
       "    </tr>\n",
       "  </tbody>\n",
       "</table>\n",
       "</div>"
      ],
      "text/plain": [
       "                   _url                  name  birth_year  weight  height  \\\n",
       "0           bruno-surra          Bruno  Surra      1964.0     NaN     NaN   \n",
       "1            gerard-rue           Gérard  Rué      1965.0    74.0   182.0   \n",
       "2              jan-maas             Jan  Maas      1996.0    69.0   189.0   \n",
       "3  nathan-van-hooydonck  Nathan Van Hooydonck      1995.0    78.0   192.0   \n",
       "4      jose-felix-parra     José Félix  Parra      1997.0    55.0   171.0   \n",
       "\n",
       "   nationality  \n",
       "0        Italy  \n",
       "1       France  \n",
       "2  Netherlands  \n",
       "3      Belgium  \n",
       "4        Spain  "
      ]
     },
     "execution_count": 23,
     "metadata": {},
     "output_type": "execute_result"
    }
   ],
   "source": [
    "df.head()"
   ]
  },
  {
   "cell_type": "markdown",
   "id": "85163f09-acd9-4c9b-9a98-515a9a1c6e6c",
   "metadata": {},
   "source": [
    "This command displays the first five rows of the DataFrame. You can change the number of rows displayed by passing a parameter to the head() function. For example, to display the first three rows, you can run:"
   ]
  },
  {
   "cell_type": "code",
   "execution_count": 24,
   "id": "279f09e5-4376-49c7-8d6f-145ef280babd",
   "metadata": {},
   "outputs": [
    {
     "data": {
      "text/html": [
       "<div>\n",
       "<style scoped>\n",
       "    .dataframe tbody tr th:only-of-type {\n",
       "        vertical-align: middle;\n",
       "    }\n",
       "\n",
       "    .dataframe tbody tr th {\n",
       "        vertical-align: top;\n",
       "    }\n",
       "\n",
       "    .dataframe thead th {\n",
       "        text-align: right;\n",
       "    }\n",
       "</style>\n",
       "<table border=\"1\" class=\"dataframe\">\n",
       "  <thead>\n",
       "    <tr style=\"text-align: right;\">\n",
       "      <th></th>\n",
       "      <th>_url</th>\n",
       "      <th>name</th>\n",
       "      <th>birth_year</th>\n",
       "      <th>weight</th>\n",
       "      <th>height</th>\n",
       "      <th>nationality</th>\n",
       "    </tr>\n",
       "  </thead>\n",
       "  <tbody>\n",
       "    <tr>\n",
       "      <th>0</th>\n",
       "      <td>bruno-surra</td>\n",
       "      <td>Bruno  Surra</td>\n",
       "      <td>1964.0</td>\n",
       "      <td>NaN</td>\n",
       "      <td>NaN</td>\n",
       "      <td>Italy</td>\n",
       "    </tr>\n",
       "    <tr>\n",
       "      <th>1</th>\n",
       "      <td>gerard-rue</td>\n",
       "      <td>Gérard  Rué</td>\n",
       "      <td>1965.0</td>\n",
       "      <td>74.0</td>\n",
       "      <td>182.0</td>\n",
       "      <td>France</td>\n",
       "    </tr>\n",
       "    <tr>\n",
       "      <th>2</th>\n",
       "      <td>jan-maas</td>\n",
       "      <td>Jan  Maas</td>\n",
       "      <td>1996.0</td>\n",
       "      <td>69.0</td>\n",
       "      <td>189.0</td>\n",
       "      <td>Netherlands</td>\n",
       "    </tr>\n",
       "  </tbody>\n",
       "</table>\n",
       "</div>"
      ],
      "text/plain": [
       "          _url          name  birth_year  weight  height  nationality\n",
       "0  bruno-surra  Bruno  Surra      1964.0     NaN     NaN        Italy\n",
       "1   gerard-rue   Gérard  Rué      1965.0    74.0   182.0       France\n",
       "2     jan-maas     Jan  Maas      1996.0    69.0   189.0  Netherlands"
      ]
     },
     "execution_count": 24,
     "metadata": {},
     "output_type": "execute_result"
    }
   ],
   "source": [
    "df.head(3)"
   ]
  },
  {
   "cell_type": "markdown",
   "id": "cd93705f-a317-4bf7-87ce-c843227eea96",
   "metadata": {},
   "source": [
    "You can also use the `describe()` function to get a statistical summary of the DataFrame:"
   ]
  },
  {
   "cell_type": "code",
   "execution_count": 25,
   "id": "e4780926-3275-4338-bc00-28f8ee8c973c",
   "metadata": {},
   "outputs": [
    {
     "data": {
      "text/html": [
       "<div>\n",
       "<style scoped>\n",
       "    .dataframe tbody tr th:only-of-type {\n",
       "        vertical-align: middle;\n",
       "    }\n",
       "\n",
       "    .dataframe tbody tr th {\n",
       "        vertical-align: top;\n",
       "    }\n",
       "\n",
       "    .dataframe thead th {\n",
       "        text-align: right;\n",
       "    }\n",
       "</style>\n",
       "<table border=\"1\" class=\"dataframe\">\n",
       "  <thead>\n",
       "    <tr style=\"text-align: right;\">\n",
       "      <th></th>\n",
       "      <th>birth_year</th>\n",
       "      <th>weight</th>\n",
       "      <th>height</th>\n",
       "    </tr>\n",
       "  </thead>\n",
       "  <tbody>\n",
       "    <tr>\n",
       "      <th>count</th>\n",
       "      <td>6121.000000</td>\n",
       "      <td>3078.000000</td>\n",
       "      <td>3143.000000</td>\n",
       "    </tr>\n",
       "    <tr>\n",
       "      <th>mean</th>\n",
       "      <td>1974.071884</td>\n",
       "      <td>68.658739</td>\n",
       "      <td>179.815145</td>\n",
       "    </tr>\n",
       "    <tr>\n",
       "      <th>std</th>\n",
       "      <td>15.535834</td>\n",
       "      <td>6.348183</td>\n",
       "      <td>6.443447</td>\n",
       "    </tr>\n",
       "    <tr>\n",
       "      <th>min</th>\n",
       "      <td>1933.000000</td>\n",
       "      <td>48.000000</td>\n",
       "      <td>154.000000</td>\n",
       "    </tr>\n",
       "    <tr>\n",
       "      <th>25%</th>\n",
       "      <td>1962.000000</td>\n",
       "      <td>64.000000</td>\n",
       "      <td>175.000000</td>\n",
       "    </tr>\n",
       "    <tr>\n",
       "      <th>50%</th>\n",
       "      <td>1974.000000</td>\n",
       "      <td>69.000000</td>\n",
       "      <td>180.000000</td>\n",
       "    </tr>\n",
       "    <tr>\n",
       "      <th>75%</th>\n",
       "      <td>1987.000000</td>\n",
       "      <td>73.000000</td>\n",
       "      <td>184.000000</td>\n",
       "    </tr>\n",
       "    <tr>\n",
       "      <th>max</th>\n",
       "      <td>2004.000000</td>\n",
       "      <td>94.000000</td>\n",
       "      <td>204.000000</td>\n",
       "    </tr>\n",
       "  </tbody>\n",
       "</table>\n",
       "</div>"
      ],
      "text/plain": [
       "        birth_year       weight       height\n",
       "count  6121.000000  3078.000000  3143.000000\n",
       "mean   1974.071884    68.658739   179.815145\n",
       "std      15.535834     6.348183     6.443447\n",
       "min    1933.000000    48.000000   154.000000\n",
       "25%    1962.000000    64.000000   175.000000\n",
       "50%    1974.000000    69.000000   180.000000\n",
       "75%    1987.000000    73.000000   184.000000\n",
       "max    2004.000000    94.000000   204.000000"
      ]
     },
     "execution_count": 25,
     "metadata": {},
     "output_type": "execute_result"
    }
   ],
   "source": [
    "df.describe()\n"
   ]
  },
  {
   "cell_type": "markdown",
   "id": "f4a60a67-f514-43cd-9ad1-9a4a0f0c0ef6",
   "metadata": {},
   "source": [
    "This command displays the count, mean, standard deviation, minimum, and maximum values for each column of the DataFrame. \n",
    "If your DataFrame contains non-numeric columns, the `describe()` function will skip them."
   ]
  },
  {
   "cell_type": "markdown",
   "id": "aab0626f-f9fa-48e8-a37f-62e60f18db24",
   "metadata": {},
   "source": [
    "# Manipulate the data\n",
    "Pandas provides many functions and methods for manipulating the data in a DataFrame. For example, you can `drop`, `add` a column or a row, `rename` column’s names, `replace` values in Dataframe, and many other operations.\n"
   ]
  },
  {
   "cell_type": "code",
   "execution_count": 30,
   "id": "cdf2f32c-bd0a-4a7c-ab2e-f0f45510d9ae",
   "metadata": {},
   "outputs": [
    {
     "name": "stdout",
     "output_type": "stream",
     "text": [
      "                      name  birth_year  weight  height  nationality\n",
      "0             Bruno  Surra      1964.0     NaN     NaN        Italy\n",
      "1              Gérard  Rué      1965.0    74.0   182.0       France\n",
      "2                Jan  Maas      1996.0    69.0   189.0  Netherlands\n",
      "3     Nathan Van Hooydonck      1995.0    78.0   192.0      Belgium\n",
      "4        José Félix  Parra      1997.0    55.0   171.0        Spain\n",
      "...                    ...         ...     ...     ...          ...\n",
      "6129   Juan José  Martínez      1966.0     NaN     NaN        Spain\n",
      "6130       Iñigo  Elosegui      1998.0    75.0   188.0        Spain\n",
      "6131       Paolo  Alberati      1973.0     NaN     NaN        Italy\n",
      "6132    Jackson  Rodríguez      1985.0    58.0   170.0    Venezuela\n",
      "6133         Ward  Vanhoof      1999.0    75.0   186.0      Belgium\n",
      "\n",
      "[6134 rows x 5 columns]\n"
     ]
    }
   ],
   "source": [
    "df_drop = df.drop(\"_url\", axis = 1)    \n",
    "print(df_drop)  "
   ]
  },
  {
   "cell_type": "markdown",
   "id": "f7899a5e-5920-4cc9-ba97-b32ae5acc2c6",
   "metadata": {},
   "source": [
    "This command drops the column named `_url` of the Dataframe."
   ]
  },
  {
   "cell_type": "code",
   "execution_count": 36,
   "id": "cdd8101c-a530-421e-958a-e18461a7608c",
   "metadata": {},
   "outputs": [
    {
     "name": "stdout",
     "output_type": "stream",
     "text": [
      "                         _url                  name  birth_year  weight  \\\n",
      "0                 bruno-surra          Bruno  Surra      1964.0     NaN   \n",
      "1                  gerard-rue           Gérard  Rué      1965.0    74.0   \n",
      "2                    jan-maas             Jan  Maas      1996.0    69.0   \n",
      "3        nathan-van-hooydonck  Nathan Van Hooydonck      1995.0    78.0   \n",
      "4            jose-felix-parra     José Félix  Parra      1997.0    55.0   \n",
      "...                       ...                   ...         ...     ...   \n",
      "6129  juan-jose-martinez-diaz   Juan José  Martínez      1966.0     NaN   \n",
      "6130           inigo-elosegui       Iñigo  Elosegui      1998.0    75.0   \n",
      "6131           paolo-alberati       Paolo  Alberati      1973.0     NaN   \n",
      "6132        jackson-rodriguez    Jackson  Rodríguez      1985.0    58.0   \n",
      "6133             ward-vanhoof         Ward  Vanhoof      1999.0    75.0   \n",
      "\n",
      "      height  nationality    ID  \n",
      "0        NaN        Italy     1  \n",
      "1      182.0       France     2  \n",
      "2      189.0  Netherlands     3  \n",
      "3      192.0      Belgium     4  \n",
      "4      171.0        Spain     5  \n",
      "...      ...          ...   ...  \n",
      "6129     NaN        Spain  6130  \n",
      "6130   188.0        Spain  6131  \n",
      "6131     NaN        Italy  6132  \n",
      "6132   170.0    Venezuela  6133  \n",
      "6133   186.0      Belgium  6134  \n",
      "\n",
      "[6134 rows x 7 columns]\n"
     ]
    }
   ],
   "source": [
    "df_add = df.assign(ID=range(1, len(df) + 1))\n",
    "print(df_add)"
   ]
  },
  {
   "cell_type": "markdown",
   "id": "f533e270-78a8-4acc-be3f-c3e02336add9",
   "metadata": {},
   "source": [
    "This command adds a new column named col5 to the right of the Dataframe.\n",
    "****\n",
    "```\n",
    "col5 = [\"foo\", \"bar\", \"foo\", \"bar\", \"foo\", \"bar\"]   \n",
    "df_add = df.assign(col5 = col5)   \n",
    "print(df_add)\n",
    "```\n",
    "\n"
   ]
  },
  {
   "cell_type": "markdown",
   "id": "12d73eac-394d-405c-81f7-d2a90cb9debe",
   "metadata": {},
   "source": [
    "or to rename the column..."
   ]
  },
  {
   "cell_type": "code",
   "execution_count": 37,
   "id": "e447744e-43b1-45af-a137-78c76d8fb889",
   "metadata": {},
   "outputs": [
    {
     "name": "stdout",
     "output_type": "stream",
     "text": [
      "                           x1                    x2      x3    x4     x5  \\\n",
      "0                 bruno-surra          Bruno  Surra  1964.0   NaN    NaN   \n",
      "1                  gerard-rue           Gérard  Rué  1965.0  74.0  182.0   \n",
      "2                    jan-maas             Jan  Maas  1996.0  69.0  189.0   \n",
      "3        nathan-van-hooydonck  Nathan Van Hooydonck  1995.0  78.0  192.0   \n",
      "4            jose-felix-parra     José Félix  Parra  1997.0  55.0  171.0   \n",
      "...                       ...                   ...     ...   ...    ...   \n",
      "6129  juan-jose-martinez-diaz   Juan José  Martínez  1966.0   NaN    NaN   \n",
      "6130           inigo-elosegui       Iñigo  Elosegui  1998.0  75.0  188.0   \n",
      "6131           paolo-alberati       Paolo  Alberati  1973.0   NaN    NaN   \n",
      "6132        jackson-rodriguez    Jackson  Rodríguez  1985.0  58.0  170.0   \n",
      "6133             ward-vanhoof         Ward  Vanhoof  1999.0  75.0  186.0   \n",
      "\n",
      "               x6  \n",
      "0           Italy  \n",
      "1          France  \n",
      "2     Netherlands  \n",
      "3         Belgium  \n",
      "4           Spain  \n",
      "...           ...  \n",
      "6129        Spain  \n",
      "6130        Spain  \n",
      "6131        Italy  \n",
      "6132    Venezuela  \n",
      "6133      Belgium  \n",
      "\n",
      "[6134 rows x 6 columns]\n"
     ]
    }
   ],
   "source": [
    "df_rename = df.copy()                                \n",
    "df_rename.columns = [\"x1\", \"x2\", \"x3\", \"x4\", \"x5\", \"x6\"]   \n",
    "print(df_rename)  "
   ]
  },
  {
   "cell_type": "markdown",
   "id": "9cd99758-4132-4860-bb5f-8178ed1285eb",
   "metadata": {},
   "source": [
    "The following command adds a new row to the bottom of the Dataframe."
   ]
  },
  {
   "cell_type": "code",
   "execution_count": 38,
   "id": "18d5dbc7-b259-4605-a497-aed827c15872",
   "metadata": {},
   "outputs": [
    {
     "name": "stdout",
     "output_type": "stream",
     "text": [
      "                      _url                  name birth_year weight height  \\\n",
      "0              bruno-surra          Bruno  Surra     1964.0    NaN    NaN   \n",
      "1               gerard-rue           Gérard  Rué     1965.0   74.0  182.0   \n",
      "2                 jan-maas             Jan  Maas     1996.0   69.0  189.0   \n",
      "3     nathan-van-hooydonck  Nathan Van Hooydonck     1995.0   78.0  192.0   \n",
      "4         jose-felix-parra     José Félix  Parra     1997.0   55.0  171.0   \n",
      "...                    ...                   ...        ...    ...    ...   \n",
      "6130        inigo-elosegui       Iñigo  Elosegui     1998.0   75.0  188.0   \n",
      "6131        paolo-alberati       Paolo  Alberati     1973.0    NaN    NaN   \n",
      "6132     jackson-rodriguez    Jackson  Rodríguez     1985.0   58.0  170.0   \n",
      "6133          ward-vanhoof         Ward  Vanhoof     1999.0   75.0  186.0   \n",
      "6134            lupo-lucio            Lupo Lucio       1999     60    100   \n",
      "\n",
      "      nationality  \n",
      "0           Italy  \n",
      "1          France  \n",
      "2     Netherlands  \n",
      "3         Belgium  \n",
      "4           Spain  \n",
      "...           ...  \n",
      "6130        Spain  \n",
      "6131        Italy  \n",
      "6132    Venezuela  \n",
      "6133      Belgium  \n",
      "6134   Fantabosco  \n",
      "\n",
      "[6135 rows x 6 columns]\n"
     ]
    }
   ],
   "source": [
    "new_row = [\"lupo-lucio\", \"Lupo Lucio\", \"1999\", \"60\", \"100\", \"Fantabosco\"]    \n",
    "df_new = df.copy()            \n",
    "df_new.loc[6134] = new_row         \n",
    "print(df_new) "
   ]
  },
  {
   "cell_type": "markdown",
   "id": "f567fed1-76b4-4585-b98a-9e9f9ad4ab00",
   "metadata": {},
   "source": [
    "This command replaces any values `Italy` in column `nationality` with `Italia`."
   ]
  },
  {
   "cell_type": "code",
   "execution_count": 39,
   "id": "a2320fbe-5544-4f79-8894-c0075566c3c2",
   "metadata": {},
   "outputs": [
    {
     "name": "stdout",
     "output_type": "stream",
     "text": [
      "                         _url                  name  birth_year  weight  \\\n",
      "0                 bruno-surra          Bruno  Surra      1964.0     NaN   \n",
      "1                  gerard-rue           Gérard  Rué      1965.0    74.0   \n",
      "2                    jan-maas             Jan  Maas      1996.0    69.0   \n",
      "3        nathan-van-hooydonck  Nathan Van Hooydonck      1995.0    78.0   \n",
      "4            jose-felix-parra     José Félix  Parra      1997.0    55.0   \n",
      "...                       ...                   ...         ...     ...   \n",
      "6129  juan-jose-martinez-diaz   Juan José  Martínez      1966.0     NaN   \n",
      "6130           inigo-elosegui       Iñigo  Elosegui      1998.0    75.0   \n",
      "6131           paolo-alberati       Paolo  Alberati      1973.0     NaN   \n",
      "6132        jackson-rodriguez    Jackson  Rodríguez      1985.0    58.0   \n",
      "6133             ward-vanhoof         Ward  Vanhoof      1999.0    75.0   \n",
      "\n",
      "      height  nationality  \n",
      "0        NaN       Italia  \n",
      "1      182.0       France  \n",
      "2      189.0  Netherlands  \n",
      "3      192.0      Belgium  \n",
      "4      171.0        Spain  \n",
      "...      ...          ...  \n",
      "6129     NaN        Spain  \n",
      "6130   188.0        Spain  \n",
      "6131     NaN       Italia  \n",
      "6132   170.0    Venezuela  \n",
      "6133   186.0      Belgium  \n",
      "\n",
      "[6134 rows x 6 columns]\n"
     ]
    }
   ],
   "source": [
    "df_replace = df.copy()                                \n",
    "df_replace[\"nationality\"] = df_replace[\"nationality\"].replace(\"Italy\", \"Italia\")\n",
    "print(df_replace)\n"
   ]
  },
  {
   "cell_type": "markdown",
   "id": "5c90d425-4797-44c3-9b02-a3d9bd307329",
   "metadata": {},
   "source": [
    "# Visualize the data\n",
    "Pandas provides many functions and methods for visualizing the data in a DataFrame. For example, you can use the `plot()` function to create a line plot of a column: \n",
    "***\n",
    "`df['col2'].plot()`\n",
    "This command creates a line plot of the column named col2. You can replace col2 with the name of your column.\n",
    "***\n",
    "You can also use the `scatter()` function to create a scatter plot of two columns:\n",
    "`df.plot.scatter(x='col2', y='col4')`\n",
    "This command creates a scatter plot of the columns named col2 and col4. You can replace col2 and col4 with the names of your columns.\n"
   ]
  },
  {
   "cell_type": "code",
   "execution_count": 44,
   "id": "8ecd6f17-ade2-4067-9bd4-a380fa2b545e",
   "metadata": {},
   "outputs": [
    {
     "data": {
      "text/plain": [
       "<Axes: xlabel='height', ylabel='weight'>"
      ]
     },
     "execution_count": 44,
     "metadata": {},
     "output_type": "execute_result"
    },
    {
     "data": {
      "image/png": "[encoded data removed]",
      "text/plain": [
       "<Figure size 640x480 with 1 Axes>"
      ]
     },
     "metadata": {},
     "output_type": "display_data"
    }
   ],
   "source": [
    "df.plot.scatter(x='height', y='weight')"
   ]
  },
  {
   "cell_type": "code",
   "execution_count": null,
   "id": "2367042a-5ab9-49a1-bac8-c90745191b26",
   "metadata": {},
   "outputs": [],
   "source": []
  },
  {
   "cell_type": "code",
   "execution_count": null,
   "id": "6d789fa8-22d1-44ec-96b4-1e55ceb3d98c",
   "metadata": {},
   "outputs": [],
   "source": []
  }
 ],
 "metadata": {
  "kernelspec": {
   "display_name": "Python 3 (ipykernel)",
   "language": "python",
   "name": "python3"
  },
  "language_info": {
   "codemirror_mode": {
    "name": "ipython",
    "version": 3
   },
   "file_extension": ".py",
   "mimetype": "text/x-python",
   "name": "python",
   "nbconvert_exporter": "python",
   "pygments_lexer": "ipython3",
   "version": "3.10.15"
  }
 },
 "nbformat": 4,
 "nbformat_minor": 5
}
